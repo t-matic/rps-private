{
 "cells": [
  {
   "cell_type": "code",
   "execution_count": 8,
   "metadata": {},
   "outputs": [],
   "source": [
    "import numpy as np\n",
    "import pandas as pd\n",
    "import inquirer\n",
    "import ipywidgets"
   ]
  },
  {
   "cell_type": "code",
   "execution_count": 2,
   "metadata": {},
   "outputs": [],
   "source": [
    "rps_dict={}\n",
    "rps_dict[('rock', 'rock')]='draw'\n",
    "rps_dict[('rock', 'paper')]='loss'\n",
    "rps_dict[('rock', 'scissor')]='win'\n",
    "rps_dict[('paper', 'paper')]='draw'\n",
    "rps_dict[('paper', 'rock')]='win'\n",
    "rps_dict[('paper', 'scissor')]='loss'\n",
    "rps_dict[('scissor', 'scissor')]='draw'\n",
    "rps_dict[('scissor', 'rock')]='loss'\n",
    "rps_dict[('scissor', 'paper')]='win'"
   ]
  },
  {
   "cell_type": "code",
   "execution_count": 3,
   "metadata": {},
   "outputs": [],
   "source": [
    "points_dict={}\n",
    "points_dict['win']=1\n",
    "points_dict['draw']=0\n",
    "points_dict['loss']=-1\n"
   ]
  },
  {
   "cell_type": "code",
   "execution_count": 4,
   "metadata": {},
   "outputs": [],
   "source": [
    "def get_result_and_points(move_self, move_other):\n",
    "    result=rps_dict[(move_self, move_other)]\n",
    "    points=points_dict[result]\n",
    "    return result, points"
   ]
  },
  {
   "cell_type": "code",
   "execution_count": 5,
   "metadata": {},
   "outputs": [
    {
     "data": {
      "text/plain": [
       "('draw', 0)"
      ]
     },
     "execution_count": 5,
     "metadata": {},
     "output_type": "execute_result"
    }
   ],
   "source": [
    "get_result_and_points('rock', 'rock')"
   ]
  },
  {
   "cell_type": "code",
   "execution_count": 6,
   "metadata": {},
   "outputs": [],
   "source": [
    "move_list=['rock', 'paper', 'scissor']"
   ]
  },
  {
   "cell_type": "code",
   "execution_count": 11,
   "metadata": {},
   "outputs": [],
   "source": [
    "input_button=ipywidgets.RadioButtons(\n",
    "    options=move_list,\n",
    "    value=None,\n",
    "    layout={'width': 'max-content'},\n",
    "    description='Your move',\n",
    "    disabled=False\n",
    ")"
   ]
  },
  {
   "cell_type": "code",
   "execution_count": 32,
   "metadata": {},
   "outputs": [],
   "source": [
    "for i in [1,2]:\n",
    "    input_button"
   ]
  },
  {
   "cell_type": "code",
   "execution_count": 30,
   "metadata": {},
   "outputs": [
    {
     "data": {
      "text/plain": [
       "'rock'"
      ]
     },
     "execution_count": 30,
     "metadata": {},
     "output_type": "execute_result"
    }
   ],
   "source": [
    "input_button.value"
   ]
  }
 ],
 "metadata": {
  "kernelspec": {
   "display_name": "Python 3.10.6 64-bit",
   "language": "python",
   "name": "python3"
  },
  "language_info": {
   "codemirror_mode": {
    "name": "ipython",
    "version": 3
   },
   "file_extension": ".py",
   "mimetype": "text/x-python",
   "name": "python",
   "nbconvert_exporter": "python",
   "pygments_lexer": "ipython3",
   "version": "3.10.6"
  },
  "orig_nbformat": 4,
  "vscode": {
   "interpreter": {
    "hash": "7e3d0333ba0838efb6ee23ffa730f4b3ea2c96f2fc5236e8930b46de35f29a9b"
   }
  }
 },
 "nbformat": 4,
 "nbformat_minor": 2
}
